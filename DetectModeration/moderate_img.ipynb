{
 "cells": [
  {
   "cell_type": "code",
   "execution_count": null,
   "id": "8dfc581e-c096-49a2-9bc7-19400a8fc1f3",
   "metadata": {},
   "outputs": [],
   "source": [
    "#鉴别图片是否包含不正当内容,用户上传图片文件到特定存储桶后,rekognition会检测图片.并返回Revealing Clothes,Suggestive,Confidence等."
   ]
  },
  {
   "cell_type": "code",
   "execution_count": null,
   "id": "1a0447ce-be12-44af-ba6b-43a0edb3acdf",
   "metadata": {},
   "outputs": [],
   "source": [
    "#相关服务参考https://docs.aws.amazon.com/zh_cn/rekognition/latest/dg/procedure-moderate-images.html"
   ]
  },
  {
   "cell_type": "code",
   "execution_count": null,
   "id": "f72132e2-6b29-4ca0-b9a7-a0ec57422fc1",
   "metadata": {},
   "outputs": [],
   "source": [
    "# 0.初始化资源"
   ]
  },
  {
   "cell_type": "code",
   "execution_count": 6,
   "id": "471ff944-55de-4879-9fae-8d7b3791ea39",
   "metadata": {},
   "outputs": [],
   "source": [
    "import boto3,os\n",
    "account_id = boto3.client(\"sts\").get_caller_identity().get(\"Account\")\n",
    "region_name = boto3.session.Session().region_name\n",
    "bucketname = \"bucketname\" #不需要S3://"
   ]
  },
  {
   "cell_type": "code",
   "execution_count": null,
   "id": "aaa94b48-12f8-4a71-bfcb-0372d7f79c30",
   "metadata": {},
   "outputs": [],
   "source": [
    "# 1.创建相关角色"
   ]
  },
  {
   "cell_type": "code",
   "execution_count": null,
   "id": "7de67be4-7d58-439c-8f2f-6955e2aaeba0",
   "metadata": {
    "tags": []
   },
   "outputs": [],
   "source": [
    "%%bash\n",
    "tee trust-policy.json << END\n",
    "{\n",
    "  \"Version\": \"2012-10-17\",\n",
    "  \"Statement\": [\n",
    "    {\n",
    "      \"Effect\": \"Allow\",\n",
    "      \"Principal\": {\n",
    "        \"Service\": \"lambda.amazonaws.com\"\n",
    "      },\n",
    "      \"Action\": \"sts:AssumeRole\"\n",
    "    }\n",
    "  ]\n",
    "}\n",
    "END"
   ]
  },
  {
   "cell_type": "code",
   "execution_count": null,
   "id": "6e837eec-98bc-4f8f-a3a4-8cae37e4cd6d",
   "metadata": {
    "tags": []
   },
   "outputs": [],
   "source": [
    "!aws iam create-role --role-name lambda-ex --assume-role-policy-document file://trust-policy.json"
   ]
  },
  {
   "cell_type": "code",
   "execution_count": 9,
   "id": "8bdb8622-7479-4a6e-87c5-6bae3d2b3ebd",
   "metadata": {},
   "outputs": [],
   "source": [
    "%%bash\n",
    "aws iam attach-role-policy --role-name lambda-ex --policy-arn arn:aws:iam::aws:policy/service-role/AWSLambdaBasicExecutionRole\n",
    "aws iam attach-role-policy --role-name lambda-ex --policy-arn arn:aws:iam::aws:policy/AmazonRekognitionFullAccess\n",
    "aws iam attach-role-policy --role-name lambda-ex --policy-arn arn:aws:iam::aws:policy/AmazonS3ReadOnlyAccess"
   ]
  },
  {
   "cell_type": "code",
   "execution_count": null,
   "id": "40475745-1b3f-4ea1-8e9e-8821c5bc6612",
   "metadata": {},
   "outputs": [],
   "source": [
    "# 2. 部署lambda代码"
   ]
  },
  {
   "cell_type": "code",
   "execution_count": 10,
   "id": "ec906739-ded1-486c-8d6a-494a03152a43",
   "metadata": {},
   "outputs": [
    {
     "name": "stdout",
     "output_type": "stream",
     "text": [
      "  adding: lambda_function.py (deflated 61%)\n"
     ]
    }
   ],
   "source": [
    "!zip function.zip lambda_function.py"
   ]
  },
  {
   "cell_type": "code",
   "execution_count": null,
   "id": "39017485-290c-488f-9f64-18d826195690",
   "metadata": {},
   "outputs": [],
   "source": [
    "!aws lambda create-function --function-name DetectModeration \\\n",
    "--zip-file fileb://function.zip --handler lambda_function.lambda_handler --runtime python3.10 \\\n",
    "--role arn:aws:iam::$account_id:role/lambda-ex"
   ]
  },
  {
   "cell_type": "code",
   "execution_count": 165,
   "id": "441ffe1a-9b20-4054-ba6e-c97f7455c1cc",
   "metadata": {
    "tags": []
   },
   "outputs": [
    {
     "name": "stdout",
     "output_type": "stream",
     "text": [
      "arn:aws:lambda:ap-northeast-1:544592066775:function:DetectModeration\n"
     ]
    }
   ],
   "source": [
    "!aws lambda list-functions --query \"Functions[?FunctionName=='DetectModeration'].FunctionArn\" --output text"
   ]
  },
  {
   "cell_type": "code",
   "execution_count": null,
   "id": "48ab8785-d523-4898-b2d1-007530bc1dad",
   "metadata": {
    "tags": []
   },
   "outputs": [],
   "source": [
    "!aws lambda add-permission \\\n",
    "  --function-name DetectModeration \\\n",
    "  --action \"lambda:InvokeFunction\" \\\n",
    "  --principal s3.amazonaws.com \\\n",
    "  --source-arn arn:aws:s3:::$bucketname \\\n",
    "  --statement-id s3-trigger"
   ]
  },
  {
   "cell_type": "code",
   "execution_count": 167,
   "id": "c3f017f9-7502-4fb8-a0f5-1837583fb65a",
   "metadata": {
    "tags": []
   },
   "outputs": [],
   "source": [
    "import json\n",
    "import boto3\n",
    "\n",
    "lambda_client = boto3.client('lambda')\n",
    "response = lambda_client.get_function(FunctionName=\"DetectModeration\")\n",
    "lambda_arn = response['Configuration']['FunctionArn']\n",
    "#print (lambda_arn)\n",
    "# 多行 JSON 内容\n",
    "json_content = {\n",
    "    \"LambdaFunctionConfigurations\": [\n",
    "      {\n",
    "        \"LambdaFunctionArn\": lambda_arn,\n",
    "        \"Events\": [\"s3:ObjectCreated:*\"]\n",
    "      }\n",
    "    ]\n",
    "}\n",
    "\n",
    "# 将 JSON 内容写入文件\n",
    "with open('s3triggerlambdaconfig.json', 'w') as f:\n",
    "    json.dump(json_content, f)"
   ]
  },
  {
   "cell_type": "markdown",
   "id": "dcd339bd-0792-44d0-97a9-93a4b7783651",
   "metadata": {},
   "source": [
    "如果需要加特定过滤器 使用以下代码\n",
    "\n",
    "import json\n",
    "import boto3\n",
    "\n",
    "lambda_client = boto3.client('lambda')\n",
    "response = lambda_client.get_function(FunctionName=\"DetectModeration\")\n",
    "lambda_arn = response['Configuration']['FunctionArn']\n",
    "#print (lambda_arn)\n",
    "# 多行 JSON 内容\n",
    "json_content = {\n",
    "    \"LambdaFunctionConfigurations\": [\n",
    "      {\n",
    "        \"LambdaFunctionArn\": lambda_arn,\n",
    "        \"Events\": [\"s3:ObjectCreated:*\"],\n",
    "        \"Filter\": {\n",
    "          \"Key\": {\n",
    "            \"FilterRules\": [\n",
    "              {\n",
    "                \"Name\": \"prefix\",\n",
    "                \"Value\": \"images\"\n",
    "              },\n",
    "              {\n",
    "                \"Name\": \"suffix\",\n",
    "                \"Value\": \".jpg\"\n",
    "              }\n",
    "            ]\n",
    "          }\n",
    "        }\n",
    "      }\n",
    "    ]\n",
    "}\n",
    "\n",
    "# 将 JSON 内容写入文件\n",
    "with open('s3triggerlambdaconfig.json', 'w') as f:\n",
    "    json.dump(json_content, f)"
   ]
  },
  {
   "cell_type": "code",
   "execution_count": 168,
   "id": "6639048c-c1ac-4831-9a4a-1b72f6d80b81",
   "metadata": {},
   "outputs": [],
   "source": [
    "!aws s3api put-bucket-notification-configuration \\\n",
    "--bucket $bucketname \\\n",
    "--notification-configuration file://s3triggerlambdaconfig.json"
   ]
  },
  {
   "cell_type": "code",
   "execution_count": null,
   "id": "b1a5b0f3-2270-4dc5-beba-8a334361abac",
   "metadata": {},
   "outputs": [],
   "source": [
    "#查看日志"
   ]
  },
  {
   "cell_type": "code",
   "execution_count": 211,
   "id": "d98ad379-d1ae-459f-ac2d-ad28f16584a7",
   "metadata": {
    "tags": []
   },
   "outputs": [],
   "source": [
    "YouLogStreamName = \"$(aws logs describe-log-streams --log-group-name /aws/lambda/DetectModeration --order-by LastEventTime --descending --query \\'logStreams[0].logStreamName\\' --output text)\""
   ]
  },
  {
   "cell_type": "code",
   "execution_count": 212,
   "id": "7b710a09-c3ef-4c9b-9579-882934f0d372",
   "metadata": {
    "tags": []
   },
   "outputs": [
    {
     "name": "stdout",
     "output_type": "stream",
     "text": [
      "{\n",
      "    \"events\": [\n",
      "        {\n",
      "            \"timestamp\": 1690340574141,\n",
      "            \"message\": \"INIT_START Runtime Version: python:3.10.v5\\tRuntime Version ARN: arn:aws:lambda:ap-northeast-1::runtime:51b59a64d1fa5125d324f5fe77fbc805ea96f487f1d112fe4bf3f60323b552cb\\n\",\n",
      "            \"ingestionTime\": 1690340579201\n",
      "        },\n",
      "        {\n",
      "            \"timestamp\": 1690340574506,\n",
      "            \"message\": \"Loading function\\n\",\n",
      "            \"ingestionTime\": 1690340579201\n",
      "        },\n",
      "        {\n",
      "            \"timestamp\": 1690340574618,\n",
      "            \"message\": \"START RequestId: 996bd125-84db-4dd4-be8a-c0cf9306bf71 Version: $LATEST\\n\",\n",
      "            \"ingestionTime\": 1690340579201\n",
      "        },\n",
      "        {\n",
      "            \"timestamp\": 1690340575347,\n",
      "            \"message\": \"Detected labels for images/img4.jpeg\\n\",\n",
      "            \"ingestionTime\": 1690340579201\n",
      "        },\n",
      "        {\n",
      "            \"timestamp\": 1690340575364,\n",
      "            \"message\": \"[]\\n\",\n",
      "            \"ingestionTime\": 1690340579201\n",
      "        },\n",
      "        {\n",
      "            \"timestamp\": 1690340575384,\n",
      "            \"message\": \"END RequestId: 996bd125-84db-4dd4-be8a-c0cf9306bf71\\n\",\n",
      "            \"ingestionTime\": 1690340579201\n",
      "        },\n",
      "        {\n",
      "            \"timestamp\": 1690340575384,\n",
      "            \"message\": \"REPORT RequestId: 996bd125-84db-4dd4-be8a-c0cf9306bf71\\tDuration: 766.13 ms\\tBilled Duration: 767 ms\\tMemory Size: 128 MB\\tMax Memory Used: 69 MB\\tInit Duration: 476.66 ms\\t\\n\",\n",
      "            \"ingestionTime\": 1690340579201\n",
      "        },\n",
      "        {\n",
      "            \"timestamp\": 1690340681696,\n",
      "            \"message\": \"START RequestId: 8c842ca1-06be-43c7-965c-467abbb4cc7a Version: $LATEST\\n\",\n",
      "            \"ingestionTime\": 1690340690728\n",
      "        },\n",
      "        {\n",
      "            \"timestamp\": 1690340682248,\n",
      "            \"message\": \"Detected labels for images/img6.jpeg\\n\",\n",
      "            \"ingestionTime\": 1690340690728\n",
      "        },\n",
      "        {\n",
      "            \"timestamp\": 1690340682248,\n",
      "            \"message\": \"Revealing Clothes : 82.2403564453125\\n\",\n",
      "            \"ingestionTime\": 1690340690728\n",
      "        },\n",
      "        {\n",
      "            \"timestamp\": 1690340682248,\n",
      "            \"message\": \"Suggestive\\n\",\n",
      "            \"ingestionTime\": 1690340690728\n",
      "        },\n",
      "        {\n",
      "            \"timestamp\": 1690340682248,\n",
      "            \"message\": \"Suggestive : 82.2403564453125\\n\",\n",
      "            \"ingestionTime\": 1690340690728\n",
      "        },\n",
      "        {\n",
      "            \"timestamp\": 1690340682265,\n",
      "            \"message\": \"[{'Confidence': 82.2403564453125, 'Name': 'Revealing Clothes', 'ParentName': 'Suggestive'}, {'Confidence': 82.2403564453125, 'Name': 'Suggestive', 'ParentName': ''}]\\n\",\n",
      "            \"ingestionTime\": 1690340690728\n",
      "        },\n",
      "        {\n",
      "            \"timestamp\": 1690340682309,\n",
      "            \"message\": \"END RequestId: 8c842ca1-06be-43c7-965c-467abbb4cc7a\\n\",\n",
      "            \"ingestionTime\": 1690340690728\n",
      "        },\n",
      "        {\n",
      "            \"timestamp\": 1690340682309,\n",
      "            \"message\": \"REPORT RequestId: 8c842ca1-06be-43c7-965c-467abbb4cc7a\\tDuration: 613.31 ms\\tBilled Duration: 614 ms\\tMemory Size: 128 MB\\tMax Memory Used: 70 MB\\t\\n\",\n",
      "            \"ingestionTime\": 1690340690728\n",
      "        }\n",
      "    ],\n",
      "    \"nextForwardToken\": \"f/37695856854883409187337927608049174759987865910953246727/s\",\n",
      "    \"nextBackwardToken\": \"b/37695854442656402552677483499585727763989338252998082560/s\"\n",
      "}\n"
     ]
    }
   ],
   "source": [
    "!aws logs get-log-events --log-group-name /aws/lambda/DetectModeration --log-stream-name '2023/07/26/[$LATEST]d7caa4fa9cf542b995e5b7116a7f3b83'"
   ]
  },
  {
   "cell_type": "code",
   "execution_count": null,
   "id": "cf861845-2c9f-4bb5-81af-290ccf00c3ef",
   "metadata": {},
   "outputs": [],
   "source": []
  }
 ],
 "metadata": {
  "kernelspec": {
   "display_name": "Python 3 (ipykernel)",
   "language": "python",
   "name": "python3"
  },
  "language_info": {
   "codemirror_mode": {
    "name": "ipython",
    "version": 3
   },
   "file_extension": ".py",
   "mimetype": "text/x-python",
   "name": "python",
   "nbconvert_exporter": "python",
   "pygments_lexer": "ipython3",
   "version": "3.10.8"
  }
 },
 "nbformat": 4,
 "nbformat_minor": 5
}
